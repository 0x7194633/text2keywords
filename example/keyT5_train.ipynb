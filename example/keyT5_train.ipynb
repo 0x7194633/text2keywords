{
  "nbformat": 4,
  "nbformat_minor": 0,
  "metadata": {
    "colab": {
      "name": "keyT5_train",
      "provenance": [],
      "collapsed_sections": [
        "jvpWpdjNt7tN"
      ],
      "include_colab_link": true
    },
    "kernelspec": {
      "name": "python3",
      "display_name": "Python 3"
    },
    "language_info": {
      "name": "python"
    },
    "accelerator": "GPU",
    "widgets": {
      "application/vnd.jupyter.widget-state+json": {
        "35e0f7b34b044ff9868f2118aa41cace": {
          "model_module": "@jupyter-widgets/controls",
          "model_name": "HBoxModel",
          "model_module_version": "1.5.0",
          "state": {
            "_view_name": "HBoxView",
            "_dom_classes": [],
            "_model_name": "HBoxModel",
            "_view_module": "@jupyter-widgets/controls",
            "_model_module_version": "1.5.0",
            "_view_count": null,
            "_view_module_version": "1.5.0",
            "box_style": "",
            "layout": "IPY_MODEL_b0edee2cd55d40fc8164199fbf426357",
            "_model_module": "@jupyter-widgets/controls",
            "children": [
              "IPY_MODEL_f57de6e28b864ccda8b05f5259eba384",
              "IPY_MODEL_718e5e922c3d4a29b606c858ad5eea29",
              "IPY_MODEL_19234dd241f2466eb5884a399562c3e6"
            ]
          }
        },
        "b0edee2cd55d40fc8164199fbf426357": {
          "model_module": "@jupyter-widgets/base",
          "model_name": "LayoutModel",
          "model_module_version": "1.2.0",
          "state": {
            "_view_name": "LayoutView",
            "grid_template_rows": null,
            "right": null,
            "justify_content": null,
            "_view_module": "@jupyter-widgets/base",
            "overflow": null,
            "_model_module_version": "1.2.0",
            "_view_count": null,
            "flex_flow": null,
            "width": null,
            "min_width": null,
            "border": null,
            "align_items": null,
            "bottom": null,
            "_model_module": "@jupyter-widgets/base",
            "top": null,
            "grid_column": null,
            "overflow_y": null,
            "overflow_x": null,
            "grid_auto_flow": null,
            "grid_area": null,
            "grid_template_columns": null,
            "flex": null,
            "_model_name": "LayoutModel",
            "justify_items": null,
            "grid_row": null,
            "max_height": null,
            "align_content": null,
            "visibility": null,
            "align_self": null,
            "height": null,
            "min_height": null,
            "padding": null,
            "grid_auto_rows": null,
            "grid_gap": null,
            "max_width": null,
            "order": null,
            "_view_module_version": "1.2.0",
            "grid_template_areas": null,
            "object_position": null,
            "object_fit": null,
            "grid_auto_columns": null,
            "margin": null,
            "display": null,
            "left": null
          }
        },
        "f57de6e28b864ccda8b05f5259eba384": {
          "model_module": "@jupyter-widgets/controls",
          "model_name": "HTMLModel",
          "model_module_version": "1.5.0",
          "state": {
            "_view_name": "HTMLView",
            "style": "IPY_MODEL_9b686f3a8e724abe8bda0a2523bb1c1c",
            "_dom_classes": [],
            "description": "",
            "_model_name": "HTMLModel",
            "placeholder": "​",
            "_view_module": "@jupyter-widgets/controls",
            "_model_module_version": "1.5.0",
            "value": "100%",
            "_view_count": null,
            "_view_module_version": "1.5.0",
            "description_tooltip": null,
            "_model_module": "@jupyter-widgets/controls",
            "layout": "IPY_MODEL_9b2337be7274481c8561f0d029e3f4c7"
          }
        },
        "718e5e922c3d4a29b606c858ad5eea29": {
          "model_module": "@jupyter-widgets/controls",
          "model_name": "FloatProgressModel",
          "model_module_version": "1.5.0",
          "state": {
            "_view_name": "ProgressView",
            "style": "IPY_MODEL_82d279851f37448b93caf45718a122b1",
            "_dom_classes": [],
            "description": "",
            "_model_name": "FloatProgressModel",
            "bar_style": "success",
            "max": 4892,
            "_view_module": "@jupyter-widgets/controls",
            "_model_module_version": "1.5.0",
            "value": 4892,
            "_view_count": null,
            "_view_module_version": "1.5.0",
            "orientation": "horizontal",
            "min": 0,
            "description_tooltip": null,
            "_model_module": "@jupyter-widgets/controls",
            "layout": "IPY_MODEL_98bc303e23894c46bede0d858f3efc7d"
          }
        },
        "19234dd241f2466eb5884a399562c3e6": {
          "model_module": "@jupyter-widgets/controls",
          "model_name": "HTMLModel",
          "model_module_version": "1.5.0",
          "state": {
            "_view_name": "HTMLView",
            "style": "IPY_MODEL_8a3675cf66cf484994200b351555db21",
            "_dom_classes": [],
            "description": "",
            "_model_name": "HTMLModel",
            "placeholder": "​",
            "_view_module": "@jupyter-widgets/controls",
            "_model_module_version": "1.5.0",
            "value": " 4892/4892 [15:29&lt;00:00,  5.17it/s]",
            "_view_count": null,
            "_view_module_version": "1.5.0",
            "description_tooltip": null,
            "_model_module": "@jupyter-widgets/controls",
            "layout": "IPY_MODEL_59f45d2f6d7540ff8f858906d1eb9349"
          }
        },
        "9b686f3a8e724abe8bda0a2523bb1c1c": {
          "model_module": "@jupyter-widgets/controls",
          "model_name": "DescriptionStyleModel",
          "model_module_version": "1.5.0",
          "state": {
            "_view_name": "StyleView",
            "_model_name": "DescriptionStyleModel",
            "description_width": "",
            "_view_module": "@jupyter-widgets/base",
            "_model_module_version": "1.5.0",
            "_view_count": null,
            "_view_module_version": "1.2.0",
            "_model_module": "@jupyter-widgets/controls"
          }
        },
        "9b2337be7274481c8561f0d029e3f4c7": {
          "model_module": "@jupyter-widgets/base",
          "model_name": "LayoutModel",
          "model_module_version": "1.2.0",
          "state": {
            "_view_name": "LayoutView",
            "grid_template_rows": null,
            "right": null,
            "justify_content": null,
            "_view_module": "@jupyter-widgets/base",
            "overflow": null,
            "_model_module_version": "1.2.0",
            "_view_count": null,
            "flex_flow": null,
            "width": null,
            "min_width": null,
            "border": null,
            "align_items": null,
            "bottom": null,
            "_model_module": "@jupyter-widgets/base",
            "top": null,
            "grid_column": null,
            "overflow_y": null,
            "overflow_x": null,
            "grid_auto_flow": null,
            "grid_area": null,
            "grid_template_columns": null,
            "flex": null,
            "_model_name": "LayoutModel",
            "justify_items": null,
            "grid_row": null,
            "max_height": null,
            "align_content": null,
            "visibility": null,
            "align_self": null,
            "height": null,
            "min_height": null,
            "padding": null,
            "grid_auto_rows": null,
            "grid_gap": null,
            "max_width": null,
            "order": null,
            "_view_module_version": "1.2.0",
            "grid_template_areas": null,
            "object_position": null,
            "object_fit": null,
            "grid_auto_columns": null,
            "margin": null,
            "display": null,
            "left": null
          }
        },
        "82d279851f37448b93caf45718a122b1": {
          "model_module": "@jupyter-widgets/controls",
          "model_name": "ProgressStyleModel",
          "model_module_version": "1.5.0",
          "state": {
            "_view_name": "StyleView",
            "_model_name": "ProgressStyleModel",
            "description_width": "",
            "_view_module": "@jupyter-widgets/base",
            "_model_module_version": "1.5.0",
            "_view_count": null,
            "_view_module_version": "1.2.0",
            "bar_color": null,
            "_model_module": "@jupyter-widgets/controls"
          }
        },
        "98bc303e23894c46bede0d858f3efc7d": {
          "model_module": "@jupyter-widgets/base",
          "model_name": "LayoutModel",
          "model_module_version": "1.2.0",
          "state": {
            "_view_name": "LayoutView",
            "grid_template_rows": null,
            "right": null,
            "justify_content": null,
            "_view_module": "@jupyter-widgets/base",
            "overflow": null,
            "_model_module_version": "1.2.0",
            "_view_count": null,
            "flex_flow": null,
            "width": null,
            "min_width": null,
            "border": null,
            "align_items": null,
            "bottom": null,
            "_model_module": "@jupyter-widgets/base",
            "top": null,
            "grid_column": null,
            "overflow_y": null,
            "overflow_x": null,
            "grid_auto_flow": null,
            "grid_area": null,
            "grid_template_columns": null,
            "flex": null,
            "_model_name": "LayoutModel",
            "justify_items": null,
            "grid_row": null,
            "max_height": null,
            "align_content": null,
            "visibility": null,
            "align_self": null,
            "height": null,
            "min_height": null,
            "padding": null,
            "grid_auto_rows": null,
            "grid_gap": null,
            "max_width": null,
            "order": null,
            "_view_module_version": "1.2.0",
            "grid_template_areas": null,
            "object_position": null,
            "object_fit": null,
            "grid_auto_columns": null,
            "margin": null,
            "display": null,
            "left": null
          }
        },
        "8a3675cf66cf484994200b351555db21": {
          "model_module": "@jupyter-widgets/controls",
          "model_name": "DescriptionStyleModel",
          "model_module_version": "1.5.0",
          "state": {
            "_view_name": "StyleView",
            "_model_name": "DescriptionStyleModel",
            "description_width": "",
            "_view_module": "@jupyter-widgets/base",
            "_model_module_version": "1.5.0",
            "_view_count": null,
            "_view_module_version": "1.2.0",
            "_model_module": "@jupyter-widgets/controls"
          }
        },
        "59f45d2f6d7540ff8f858906d1eb9349": {
          "model_module": "@jupyter-widgets/base",
          "model_name": "LayoutModel",
          "model_module_version": "1.2.0",
          "state": {
            "_view_name": "LayoutView",
            "grid_template_rows": null,
            "right": null,
            "justify_content": null,
            "_view_module": "@jupyter-widgets/base",
            "overflow": null,
            "_model_module_version": "1.2.0",
            "_view_count": null,
            "flex_flow": null,
            "width": null,
            "min_width": null,
            "border": null,
            "align_items": null,
            "bottom": null,
            "_model_module": "@jupyter-widgets/base",
            "top": null,
            "grid_column": null,
            "overflow_y": null,
            "overflow_x": null,
            "grid_auto_flow": null,
            "grid_area": null,
            "grid_template_columns": null,
            "flex": null,
            "_model_name": "LayoutModel",
            "justify_items": null,
            "grid_row": null,
            "max_height": null,
            "align_content": null,
            "visibility": null,
            "align_self": null,
            "height": null,
            "min_height": null,
            "padding": null,
            "grid_auto_rows": null,
            "grid_gap": null,
            "max_width": null,
            "order": null,
            "_view_module_version": "1.2.0",
            "grid_template_areas": null,
            "object_position": null,
            "object_fit": null,
            "grid_auto_columns": null,
            "margin": null,
            "display": null,
            "left": null
          }
        },
        "70e432469d154cdca96782959ba712e1": {
          "model_module": "@jupyter-widgets/controls",
          "model_name": "HBoxModel",
          "model_module_version": "1.5.0",
          "state": {
            "_view_name": "HBoxView",
            "_dom_classes": [],
            "_model_name": "HBoxModel",
            "_view_module": "@jupyter-widgets/controls",
            "_model_module_version": "1.5.0",
            "_view_count": null,
            "_view_module_version": "1.5.0",
            "box_style": "",
            "layout": "IPY_MODEL_cd171f013df54246b5ea8c6661b94880",
            "_model_module": "@jupyter-widgets/controls",
            "children": [
              "IPY_MODEL_1a900a508545433b8eaccd5a7d46742a",
              "IPY_MODEL_f32adc38d36245dd93141fbe6114a616",
              "IPY_MODEL_168b42033aa04a1f86c35a896a0e97ae"
            ]
          }
        },
        "cd171f013df54246b5ea8c6661b94880": {
          "model_module": "@jupyter-widgets/base",
          "model_name": "LayoutModel",
          "model_module_version": "1.2.0",
          "state": {
            "_view_name": "LayoutView",
            "grid_template_rows": null,
            "right": null,
            "justify_content": null,
            "_view_module": "@jupyter-widgets/base",
            "overflow": null,
            "_model_module_version": "1.2.0",
            "_view_count": null,
            "flex_flow": null,
            "width": null,
            "min_width": null,
            "border": null,
            "align_items": null,
            "bottom": null,
            "_model_module": "@jupyter-widgets/base",
            "top": null,
            "grid_column": null,
            "overflow_y": null,
            "overflow_x": null,
            "grid_auto_flow": null,
            "grid_area": null,
            "grid_template_columns": null,
            "flex": null,
            "_model_name": "LayoutModel",
            "justify_items": null,
            "grid_row": null,
            "max_height": null,
            "align_content": null,
            "visibility": null,
            "align_self": null,
            "height": null,
            "min_height": null,
            "padding": null,
            "grid_auto_rows": null,
            "grid_gap": null,
            "max_width": null,
            "order": null,
            "_view_module_version": "1.2.0",
            "grid_template_areas": null,
            "object_position": null,
            "object_fit": null,
            "grid_auto_columns": null,
            "margin": null,
            "display": null,
            "left": null
          }
        },
        "1a900a508545433b8eaccd5a7d46742a": {
          "model_module": "@jupyter-widgets/controls",
          "model_name": "HTMLModel",
          "model_module_version": "1.5.0",
          "state": {
            "_view_name": "HTMLView",
            "style": "IPY_MODEL_1dad717a478d4ad3935a15627e2eca3f",
            "_dom_classes": [],
            "description": "",
            "_model_name": "HTMLModel",
            "placeholder": "​",
            "_view_module": "@jupyter-widgets/controls",
            "_model_module_version": "1.5.0",
            "value": "100%",
            "_view_count": null,
            "_view_module_version": "1.5.0",
            "description_tooltip": null,
            "_model_module": "@jupyter-widgets/controls",
            "layout": "IPY_MODEL_e7345da9af5e4a6a9e509c7e40af6ecb"
          }
        },
        "f32adc38d36245dd93141fbe6114a616": {
          "model_module": "@jupyter-widgets/controls",
          "model_name": "FloatProgressModel",
          "model_module_version": "1.5.0",
          "state": {
            "_view_name": "ProgressView",
            "style": "IPY_MODEL_026806de57ed4a3290f22e4967b41f28",
            "_dom_classes": [],
            "description": "",
            "_model_name": "FloatProgressModel",
            "bar_style": "success",
            "max": 4892,
            "_view_module": "@jupyter-widgets/controls",
            "_model_module_version": "1.5.0",
            "value": 4892,
            "_view_count": null,
            "_view_module_version": "1.5.0",
            "orientation": "horizontal",
            "min": 0,
            "description_tooltip": null,
            "_model_module": "@jupyter-widgets/controls",
            "layout": "IPY_MODEL_0e5eeff3a2b24671a60c02e2aa0ac5d0"
          }
        },
        "168b42033aa04a1f86c35a896a0e97ae": {
          "model_module": "@jupyter-widgets/controls",
          "model_name": "HTMLModel",
          "model_module_version": "1.5.0",
          "state": {
            "_view_name": "HTMLView",
            "style": "IPY_MODEL_7ffa71ded77f4c40887d6adeb86b9536",
            "_dom_classes": [],
            "description": "",
            "_model_name": "HTMLModel",
            "placeholder": "​",
            "_view_module": "@jupyter-widgets/controls",
            "_model_module_version": "1.5.0",
            "value": " 4892/4892 [15:28&lt;00:00,  5.63it/s]",
            "_view_count": null,
            "_view_module_version": "1.5.0",
            "description_tooltip": null,
            "_model_module": "@jupyter-widgets/controls",
            "layout": "IPY_MODEL_5a48079fd4194ff8894f4a9dcc57058b"
          }
        },
        "1dad717a478d4ad3935a15627e2eca3f": {
          "model_module": "@jupyter-widgets/controls",
          "model_name": "DescriptionStyleModel",
          "model_module_version": "1.5.0",
          "state": {
            "_view_name": "StyleView",
            "_model_name": "DescriptionStyleModel",
            "description_width": "",
            "_view_module": "@jupyter-widgets/base",
            "_model_module_version": "1.5.0",
            "_view_count": null,
            "_view_module_version": "1.2.0",
            "_model_module": "@jupyter-widgets/controls"
          }
        },
        "e7345da9af5e4a6a9e509c7e40af6ecb": {
          "model_module": "@jupyter-widgets/base",
          "model_name": "LayoutModel",
          "model_module_version": "1.2.0",
          "state": {
            "_view_name": "LayoutView",
            "grid_template_rows": null,
            "right": null,
            "justify_content": null,
            "_view_module": "@jupyter-widgets/base",
            "overflow": null,
            "_model_module_version": "1.2.0",
            "_view_count": null,
            "flex_flow": null,
            "width": null,
            "min_width": null,
            "border": null,
            "align_items": null,
            "bottom": null,
            "_model_module": "@jupyter-widgets/base",
            "top": null,
            "grid_column": null,
            "overflow_y": null,
            "overflow_x": null,
            "grid_auto_flow": null,
            "grid_area": null,
            "grid_template_columns": null,
            "flex": null,
            "_model_name": "LayoutModel",
            "justify_items": null,
            "grid_row": null,
            "max_height": null,
            "align_content": null,
            "visibility": null,
            "align_self": null,
            "height": null,
            "min_height": null,
            "padding": null,
            "grid_auto_rows": null,
            "grid_gap": null,
            "max_width": null,
            "order": null,
            "_view_module_version": "1.2.0",
            "grid_template_areas": null,
            "object_position": null,
            "object_fit": null,
            "grid_auto_columns": null,
            "margin": null,
            "display": null,
            "left": null
          }
        },
        "026806de57ed4a3290f22e4967b41f28": {
          "model_module": "@jupyter-widgets/controls",
          "model_name": "ProgressStyleModel",
          "model_module_version": "1.5.0",
          "state": {
            "_view_name": "StyleView",
            "_model_name": "ProgressStyleModel",
            "description_width": "",
            "_view_module": "@jupyter-widgets/base",
            "_model_module_version": "1.5.0",
            "_view_count": null,
            "_view_module_version": "1.2.0",
            "bar_color": null,
            "_model_module": "@jupyter-widgets/controls"
          }
        },
        "0e5eeff3a2b24671a60c02e2aa0ac5d0": {
          "model_module": "@jupyter-widgets/base",
          "model_name": "LayoutModel",
          "model_module_version": "1.2.0",
          "state": {
            "_view_name": "LayoutView",
            "grid_template_rows": null,
            "right": null,
            "justify_content": null,
            "_view_module": "@jupyter-widgets/base",
            "overflow": null,
            "_model_module_version": "1.2.0",
            "_view_count": null,
            "flex_flow": null,
            "width": null,
            "min_width": null,
            "border": null,
            "align_items": null,
            "bottom": null,
            "_model_module": "@jupyter-widgets/base",
            "top": null,
            "grid_column": null,
            "overflow_y": null,
            "overflow_x": null,
            "grid_auto_flow": null,
            "grid_area": null,
            "grid_template_columns": null,
            "flex": null,
            "_model_name": "LayoutModel",
            "justify_items": null,
            "grid_row": null,
            "max_height": null,
            "align_content": null,
            "visibility": null,
            "align_self": null,
            "height": null,
            "min_height": null,
            "padding": null,
            "grid_auto_rows": null,
            "grid_gap": null,
            "max_width": null,
            "order": null,
            "_view_module_version": "1.2.0",
            "grid_template_areas": null,
            "object_position": null,
            "object_fit": null,
            "grid_auto_columns": null,
            "margin": null,
            "display": null,
            "left": null
          }
        },
        "7ffa71ded77f4c40887d6adeb86b9536": {
          "model_module": "@jupyter-widgets/controls",
          "model_name": "DescriptionStyleModel",
          "model_module_version": "1.5.0",
          "state": {
            "_view_name": "StyleView",
            "_model_name": "DescriptionStyleModel",
            "description_width": "",
            "_view_module": "@jupyter-widgets/base",
            "_model_module_version": "1.5.0",
            "_view_count": null,
            "_view_module_version": "1.2.0",
            "_model_module": "@jupyter-widgets/controls"
          }
        },
        "5a48079fd4194ff8894f4a9dcc57058b": {
          "model_module": "@jupyter-widgets/base",
          "model_name": "LayoutModel",
          "model_module_version": "1.2.0",
          "state": {
            "_view_name": "LayoutView",
            "grid_template_rows": null,
            "right": null,
            "justify_content": null,
            "_view_module": "@jupyter-widgets/base",
            "overflow": null,
            "_model_module_version": "1.2.0",
            "_view_count": null,
            "flex_flow": null,
            "width": null,
            "min_width": null,
            "border": null,
            "align_items": null,
            "bottom": null,
            "_model_module": "@jupyter-widgets/base",
            "top": null,
            "grid_column": null,
            "overflow_y": null,
            "overflow_x": null,
            "grid_auto_flow": null,
            "grid_area": null,
            "grid_template_columns": null,
            "flex": null,
            "_model_name": "LayoutModel",
            "justify_items": null,
            "grid_row": null,
            "max_height": null,
            "align_content": null,
            "visibility": null,
            "align_self": null,
            "height": null,
            "min_height": null,
            "padding": null,
            "grid_auto_rows": null,
            "grid_gap": null,
            "max_width": null,
            "order": null,
            "_view_module_version": "1.2.0",
            "grid_template_areas": null,
            "object_position": null,
            "object_fit": null,
            "grid_auto_columns": null,
            "margin": null,
            "display": null,
            "left": null
          }
        }
      }
    }
  },
  "cells": [
    {
      "cell_type": "markdown",
      "metadata": {
        "id": "view-in-github",
        "colab_type": "text"
      },
      "source": [
        "<a href=\"https://colab.research.google.com/github/0x7o/text2keywords/blob/main/example/keyT5_train.ipynb\" target=\"_parent\"><img src=\"https://colab.research.google.com/assets/colab-badge.svg\" alt=\"Open In Colab\"/></a>"
      ]
    },
    {
      "cell_type": "markdown",
      "metadata": {
        "id": "jvpWpdjNt7tN"
      },
      "source": [
        "# Пример обучения на свою задачу"
      ]
    },
    {
      "cell_type": "markdown",
      "metadata": {
        "id": "rt2Tj_oCSF3K"
      },
      "source": [
        "Мы обучим нашу модель keyT5"
      ]
    },
    {
      "cell_type": "code",
      "metadata": {
        "id": "Zg02ZwbGRgGq"
      },
      "source": [
        "!pip install transformers sentencepiece "
      ],
      "execution_count": null,
      "outputs": []
    },
    {
      "cell_type": "code",
      "metadata": {
        "id": "TpM307DXRp3T"
      },
      "source": [
        "import pandas as pd\n",
        "import numpy as np\n",
        "import torch\n",
        "from transformers import T5ForConditionalGeneration, T5Tokenizer\n",
        "import random\n",
        "from tqdm.auto import tqdm, trange\n",
        "import os\n",
        "from sklearn.model_selection import train_test_split"
      ],
      "execution_count": null,
      "outputs": []
    },
    {
      "cell_type": "code",
      "metadata": {
        "id": "zecEXAbSR6Gr"
      },
      "source": [
        "df = pd.read_csv('train.csv')"
      ],
      "execution_count": null,
      "outputs": []
    },
    {
      "cell_type": "code",
      "metadata": {
        "id": "KlnAS_IZSAZI"
      },
      "source": [
        "pd.options.display.max_colwidth = 500"
      ],
      "execution_count": null,
      "outputs": []
    },
    {
      "cell_type": "code",
      "metadata": {
        "id": "GtYqGrtpR8Rz"
      },
      "source": [
        "df.sample(5)"
      ],
      "execution_count": null,
      "outputs": []
    },
    {
      "cell_type": "markdown",
      "metadata": {
        "id": "JMMzgnKRUkkD"
      },
      "source": [
        "Разобьем выборку на обучающую и тестовую, и обучающую превратим в список пар. "
      ]
    },
    {
      "cell_type": "code",
      "metadata": {
        "id": "eKUfWYC9Ufff"
      },
      "source": [
        "df_train, df_test = train_test_split(df.dropna(), test_size=0.5, random_state=1)\n",
        "pairs = df_train[['X', 'Y']].values.tolist()"
      ],
      "execution_count": null,
      "outputs": []
    },
    {
      "cell_type": "markdown",
      "metadata": {
        "id": "2zFh6Pj6Uskn"
      },
      "source": [
        "Инициализируем модель из предобученной"
      ]
    },
    {
      "cell_type": "code",
      "metadata": {
        "id": "yEGdpRyDGCE3"
      },
      "source": [
        "raw_model = '0x7194633/keyt5-large' # или 0x7194633/keyt5-base\n",
        "model = T5ForConditionalGeneration.from_pretrained(raw_model).cuda();\n",
        "tokenizer = T5Tokenizer.from_pretrained(raw_model)"
      ],
      "execution_count": null,
      "outputs": []
    },
    {
      "cell_type": "code",
      "metadata": {
        "id": "ITWNjX08FsTl"
      },
      "source": [
        "optimizer = torch.optim.Adam(model.parameters(), lr=1e-5)"
      ],
      "execution_count": null,
      "outputs": []
    },
    {
      "cell_type": "markdown",
      "metadata": {
        "id": "_bHDtdM0UvaJ"
      },
      "source": [
        "Обучаем модель! Мы пройдём три эпохи, т.е. покажем данные модели по три раза.\n",
        "\n",
        "На GPU с размером батча 16 одна эпоха должна занять где-то 15 минут. "
      ]
    },
    {
      "cell_type": "code",
      "metadata": {
        "id": "th1-XEwjOcTf"
      },
      "source": [
        "batch_size = 4  # сколько примеров показывем модели за один шаг\n",
        "report_steps = 200  # раз в сколько шагов печатаем результат\n",
        "epochs = 3  # сколько раз мы покажем данные модели"
      ],
      "execution_count": null,
      "outputs": []
    },
    {
      "cell_type": "code",
      "metadata": {
        "colab": {
          "base_uri": "https://localhost:8080/",
          "referenced_widgets": [
            "35e0f7b34b044ff9868f2118aa41cace",
            "b0edee2cd55d40fc8164199fbf426357",
            "f57de6e28b864ccda8b05f5259eba384",
            "718e5e922c3d4a29b606c858ad5eea29",
            "19234dd241f2466eb5884a399562c3e6",
            "9b686f3a8e724abe8bda0a2523bb1c1c",
            "9b2337be7274481c8561f0d029e3f4c7",
            "82d279851f37448b93caf45718a122b1",
            "98bc303e23894c46bede0d858f3efc7d",
            "8a3675cf66cf484994200b351555db21",
            "59f45d2f6d7540ff8f858906d1eb9349",
            "70e432469d154cdca96782959ba712e1",
            "cd171f013df54246b5ea8c6661b94880",
            "1a900a508545433b8eaccd5a7d46742a",
            "f32adc38d36245dd93141fbe6114a616",
            "168b42033aa04a1f86c35a896a0e97ae",
            "1dad717a478d4ad3935a15627e2eca3f",
            "e7345da9af5e4a6a9e509c7e40af6ecb",
            "026806de57ed4a3290f22e4967b41f28",
            "0e5eeff3a2b24671a60c02e2aa0ac5d0",
            "7ffa71ded77f4c40887d6adeb86b9536",
            "5a48079fd4194ff8894f4a9dcc57058b"
          ]
        },
        "id": "tBAMooj5SoT2",
        "outputId": "6bd9bd41-15d4-45f5-960e-8f9e57d30f21"
      },
      "source": [
        "model.train()\n",
        "losses = []\n",
        "for epoch in range(epochs):\n",
        "    print('EPOCH', epoch)\n",
        "    random.shuffle(pairs)\n",
        "    for i in trange(0, int(len(pairs) / batch_size)):\n",
        "        batch = pairs[i * batch_size: (i + 1) * batch_size]\n",
        "        x = tokenizer([p[0] for p in batch], return_tensors='pt', padding=True).to(model.device)\n",
        "        y = tokenizer([p[1] for p in batch], return_tensors='pt', padding=True).to(model.device)\n",
        "        y.input_ids[y.input_ids == 0] = -100\n",
        "        loss = model(\n",
        "            input_ids=x.input_ids,\n",
        "            attention_mask=x.attention_mask,\n",
        "            labels=y.input_ids,\n",
        "            decoder_attention_mask=y.attention_mask,\n",
        "            return_dict=True\n",
        "        ).loss\n",
        "        loss.backward()\n",
        "        optimizer.step()\n",
        "        optimizer.zero_grad()\n",
        "        losses.append(loss.item())\n",
        "        if i % report_steps == 0:\n",
        "            print('step', i, 'loss', np.mean(losses[-report_steps:]))"
      ],
      "execution_count": null,
      "outputs": [
        {
          "output_type": "stream",
          "name": "stdout",
          "text": [
            "EPOCH 1\n"
          ]
        },
        {
          "output_type": "display_data",
          "data": {
            "application/vnd.jupyter.widget-view+json": {
              "model_id": "35e0f7b34b044ff9868f2118aa41cace",
              "version_minor": 0,
              "version_major": 2
            },
            "text/plain": [
              "  0%|          | 0/4892 [00:00<?, ?it/s]"
            ]
          },
          "metadata": {}
        },
        {
          "output_type": "stream",
          "name": "stdout",
          "text": [
            "step 0 loss 3.8470616340637207\n",
            "step 200 loss 4.236956038475037\n",
            "step 400 loss 4.243761397600174\n",
            "step 600 loss 4.185914375782013\n",
            "step 800 loss 4.21162052154541\n",
            "step 1000 loss 4.204087338447571\n",
            "step 1200 loss 4.202062028646469\n",
            "step 1400 loss 4.189540849924088\n",
            "step 1600 loss 4.168862791061401\n",
            "step 1800 loss 4.174042043685913\n",
            "step 2000 loss 4.123842047452927\n",
            "step 2200 loss 4.086935578584671\n",
            "step 2400 loss 4.143192913532257\n",
            "step 2600 loss 4.176858893632889\n",
            "step 2800 loss 4.13883326292038\n",
            "step 3000 loss 4.160567367076874\n",
            "step 3200 loss 4.092823115587234\n",
            "step 3400 loss 4.107407578229904\n",
            "step 3600 loss 4.153625081777573\n",
            "step 3800 loss 4.086228107213974\n",
            "step 4000 loss 4.132798237800598\n",
            "step 4200 loss 4.074807376861572\n",
            "step 4400 loss 4.124523136615753\n",
            "step 4600 loss 4.053861576318741\n",
            "step 4800 loss 4.07164126753807\n",
            "EPOCH 2\n"
          ]
        },
        {
          "output_type": "display_data",
          "data": {
            "application/vnd.jupyter.widget-view+json": {
              "model_id": "70e432469d154cdca96782959ba712e1",
              "version_minor": 0,
              "version_major": 2
            },
            "text/plain": [
              "  0%|          | 0/4892 [00:00<?, ?it/s]"
            ]
          },
          "metadata": {}
        },
        {
          "output_type": "stream",
          "name": "stdout",
          "text": [
            "step 0 loss 4.070417506694794\n",
            "step 200 loss 4.070597746372223\n",
            "step 400 loss 4.094182950258255\n",
            "step 600 loss 4.063615082502365\n",
            "step 800 loss 3.967441118955612\n",
            "step 1000 loss 4.011284437179565\n",
            "step 1200 loss 4.020660309791565\n",
            "step 1400 loss 3.9995454287528993\n",
            "step 1600 loss 3.998213469982147\n",
            "step 1800 loss 3.971472758054733\n",
            "step 2000 loss 4.004275197982788\n",
            "step 2200 loss 3.9787186360359192\n",
            "step 2400 loss 3.954311252832413\n",
            "step 2600 loss 3.972656538486481\n",
            "step 2800 loss 3.9850507843494416\n",
            "step 3000 loss 3.9864893901348113\n",
            "step 3200 loss 3.918144265413284\n",
            "step 3400 loss 3.98400639295578\n",
            "step 3600 loss 3.972563716173172\n",
            "step 3800 loss 3.951940791606903\n",
            "step 4000 loss 3.968209079504013\n",
            "step 4200 loss 3.967874040603638\n",
            "step 4400 loss 3.9230076920986177\n",
            "step 4600 loss 3.9887063550949096\n",
            "step 4800 loss 3.957128328084946\n"
          ]
        }
      ]
    },
    {
      "cell_type": "code",
      "metadata": {
        "id": "OPdjnDa4V4EY"
      },
      "source": [
        "model.eval()\n",
        "\n",
        "def answer(x, **kwargs):\n",
        "    inputs = tokenizer(x, return_tensors='pt').to(model.device) \n",
        "    with torch.no_grad():\n",
        "        hypotheses = model.generate(**inputs, **kwargs)\n",
        "    return tokenizer.decode(hypotheses[0], skip_special_tokens=True)"
      ],
      "execution_count": null,
      "outputs": []
    },
    {
      "cell_type": "markdown",
      "metadata": {
        "id": "CChOPZ14dd8_"
      },
      "source": [
        "Посмотрим, насколько хорошо модель выучила свою тренировочную выборку. "
      ]
    },
    {
      "cell_type": "code",
      "metadata": {
        "id": "Hu2opHTcdIXw"
      },
      "source": [
        "sample = df_train.sample(5)\n",
        "for i, row in sample.iterrows():\n",
        "    print(row.X)\n",
        "    print('real:', row.Y)\n",
        "    print('model: ', answer(row.X))\n",
        "    print('---')"
      ],
      "execution_count": null,
      "outputs": []
    },
    {
      "cell_type": "markdown",
      "metadata": {
        "id": "HMNMv0IKdjso"
      },
      "source": [
        "Теперь посмотрим, насколько хорошо модель справляется с ответами на вопросы, которые она не видела. "
      ]
    },
    {
      "cell_type": "code",
      "metadata": {
        "id": "TxKco1xWVrJJ"
      },
      "source": [
        "sample = df_test.sample(5)\n",
        "for i, row in sample.iterrows():\n",
        "    print(row.X)\n",
        "    print('real:', row.Y)\n",
        "    print('model: ', answer(row.X))\n",
        "    print('---')"
      ],
      "execution_count": null,
      "outputs": []
    },
    {
      "cell_type": "code",
      "metadata": {
        "id": "ziPkhebHml5h"
      },
      "source": [
        "for q in ['Тут статья для проверки нашей модели']:\n",
        "    print(q)\n",
        "    print(answer(q, do_sample=True, top_p=0.9))\n",
        "    print()"
      ],
      "execution_count": null,
      "outputs": []
    },
    {
      "cell_type": "code",
      "metadata": {
        "id": "oOKOOJKOcvRq"
      },
      "source": [
        "new_model_name = 'keyT5-custom'  # название папки\n",
        "model.save_pretrained(new_model_name)\n",
        "tokenizer.save_pretrained(new_model_name)"
      ],
      "execution_count": null,
      "outputs": []
    }
  ]
}
